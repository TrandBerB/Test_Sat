{
 "cells": [
  {
   "cell_type": "code",
   "execution_count": 4,
   "id": "eed2081e-3044-48d0-8916-89b2721d477e",
   "metadata": {},
   "outputs": [],
   "source": [
    "import pystac_client\n",
    "import planetary_computer\n",
    "\n",
    "catalog = pystac_client.Client.open(\n",
    "    \"https://planetarycomputer.microsoft.com/api/stac/v1\",\n",
    "    modifier=planetary_computer.sign_inplace,\n",
    ")"
   ]
  },
  {
   "cell_type": "code",
   "execution_count": 23,
   "id": "177ba407-beb4-4075-8cc6-8b03e468f97e",
   "metadata": {},
   "outputs": [
    {
     "data": {
      "text/plain": [
       "6"
      ]
     },
     "execution_count": 23,
     "metadata": {},
     "output_type": "execute_result"
    }
   ],
   "source": [
    "time_range = \"2024-06-01/2024-06-30\"\n",
    "# bbox = [-122.2751, 47.5469, -121.9613, 47.7458]\n",
    "bbox = [1.283083,43.439552,1.302631,43.451268]\n",
    "# bbox = Ox (31)\n",
    "\n",
    "search = catalog.search(collections=[\"landsat-c2-l2\"], bbox=bbox, datetime=time_range)\n",
    "# items = search.get_all_items()\n",
    "items = search.item_collection()\n",
    "len(items)"
   ]
  },
  {
   "cell_type": "code",
   "execution_count": 18,
   "id": "7e1b6321-937e-43f3-acb0-0fe7874d1825",
   "metadata": {},
   "outputs": [],
   "source": [
    "area_of_interest = {\n",
    "    \"type\": \"Polygon\",\n",
    "    \"coordinates\": [\n",
    "        [\n",
    "            [1.283083,43.439552],\n",
    "            [1.302631,43.302631],\n",
    "            [1.302631,43.302631],\n",
    "            [1.283083,43.302631],\n",
    "            [1.283083,43.439552],\n",
    "        ]\n",
    "    ],\n",
    "}\n",
    "\n",
    "time_range = \"2024-06-01/2024-06-30\"\n",
    "\n",
    "search = catalog.search(\n",
    "    collections=[\"landsat-c2-l2\"], intersects=area_of_interest, datetime=time_range\n",
    ")"
   ]
  },
  {
   "cell_type": "code",
   "execution_count": 24,
   "id": "21ce7870-dfaa-4803-9c3a-1a1c924eb7be",
   "metadata": {},
   "outputs": [
    {
     "data": {
      "text/plain": [
       "6"
      ]
     },
     "execution_count": 24,
     "metadata": {},
     "output_type": "execute_result"
    }
   ],
   "source": [
    "len(items)"
   ]
  },
  {
   "cell_type": "code",
   "execution_count": 20,
   "id": "3a48d248-da25-4635-8246-b78af5d72fd6",
   "metadata": {},
   "outputs": [
    {
     "data": {
      "text/plain": [
       "<pystac_client.item_search.ItemSearch at 0x7f062d15e840>"
      ]
     },
     "execution_count": 20,
     "metadata": {},
     "output_type": "execute_result"
    }
   ],
   "source": [
    "search"
   ]
  },
  {
   "cell_type": "code",
   "execution_count": 25,
   "id": "6d619d17-956b-4718-b5bd-e929dcf4460f",
   "metadata": {
    "scrolled": true
   },
   "outputs": [
    {
     "data": {
      "text/html": [
       "<div>\n",
       "<style scoped>\n",
       "    .dataframe tbody tr th:only-of-type {\n",
       "        vertical-align: middle;\n",
       "    }\n",
       "\n",
       "    .dataframe tbody tr th {\n",
       "        vertical-align: top;\n",
       "    }\n",
       "\n",
       "    .dataframe thead th {\n",
       "        text-align: right;\n",
       "    }\n",
       "</style>\n",
       "<table border=\"1\" class=\"dataframe\">\n",
       "  <thead>\n",
       "    <tr style=\"text-align: right;\">\n",
       "      <th></th>\n",
       "      <th>geometry</th>\n",
       "      <th>gsd</th>\n",
       "      <th>created</th>\n",
       "      <th>sci:doi</th>\n",
       "      <th>datetime</th>\n",
       "      <th>platform</th>\n",
       "      <th>proj:shape</th>\n",
       "      <th>description</th>\n",
       "      <th>instruments</th>\n",
       "      <th>eo:cloud_cover</th>\n",
       "      <th>...</th>\n",
       "      <th>landsat:scene_id</th>\n",
       "      <th>landsat:wrs_path</th>\n",
       "      <th>landsat:wrs_type</th>\n",
       "      <th>view:sun_azimuth</th>\n",
       "      <th>landsat:correction</th>\n",
       "      <th>view:sun_elevation</th>\n",
       "      <th>landsat:cloud_cover_land</th>\n",
       "      <th>landsat:collection_number</th>\n",
       "      <th>landsat:collection_category</th>\n",
       "      <th>proj:code</th>\n",
       "    </tr>\n",
       "  </thead>\n",
       "  <tbody>\n",
       "    <tr>\n",
       "      <th>0</th>\n",
       "      <td>POLYGON ((0.93365 44.2381, 0.38038 42.525, 2.5...</td>\n",
       "      <td>30</td>\n",
       "      <td>2024-07-10T09:24:37.723939Z</td>\n",
       "      <td>10.5066/P9OGBGM6</td>\n",
       "      <td>2024-06-24T10:35:30.200884Z</td>\n",
       "      <td>landsat-8</td>\n",
       "      <td>[7971, 7861]</td>\n",
       "      <td>Landsat Collection 2 Level-2</td>\n",
       "      <td>[oli, tirs]</td>\n",
       "      <td>11.57</td>\n",
       "      <td>...</td>\n",
       "      <td>LC81980302024176LGN00</td>\n",
       "      <td>198</td>\n",
       "      <td>2</td>\n",
       "      <td>133.795140</td>\n",
       "      <td>L2SP</td>\n",
       "      <td>64.241283</td>\n",
       "      <td>11.57</td>\n",
       "      <td>02</td>\n",
       "      <td>T1</td>\n",
       "      <td>EPSG:32631</td>\n",
       "    </tr>\n",
       "    <tr>\n",
       "      <th>1</th>\n",
       "      <td>POLYGON ((-0.62675 44.23538, -1.17848 42.5222,...</td>\n",
       "      <td>30</td>\n",
       "      <td>2024-06-26T09:09:02.217478Z</td>\n",
       "      <td>10.5066/P9OGBGM6</td>\n",
       "      <td>2024-06-23T10:41:27.418211Z</td>\n",
       "      <td>landsat-9</td>\n",
       "      <td>[8041, 7941]</td>\n",
       "      <td>Landsat Collection 2 Level-2</td>\n",
       "      <td>[oli, tirs]</td>\n",
       "      <td>73.86</td>\n",
       "      <td>...</td>\n",
       "      <td>LC91990302024175LGN00</td>\n",
       "      <td>199</td>\n",
       "      <td>2</td>\n",
       "      <td>133.729813</td>\n",
       "      <td>L2SP</td>\n",
       "      <td>64.246992</td>\n",
       "      <td>73.86</td>\n",
       "      <td>02</td>\n",
       "      <td>T1</td>\n",
       "      <td>EPSG:32631</td>\n",
       "    </tr>\n",
       "    <tr>\n",
       "      <th>2</th>\n",
       "      <td>POLYGON ((0.89504 44.23551, 0.34545 42.52177, ...</td>\n",
       "      <td>30</td>\n",
       "      <td>2024-06-19T09:10:07.845224Z</td>\n",
       "      <td>10.5066/P9OGBGM6</td>\n",
       "      <td>2024-06-16T10:35:26.637558Z</td>\n",
       "      <td>landsat-9</td>\n",
       "      <td>[7951, 7851]</td>\n",
       "      <td>Landsat Collection 2 Level-2</td>\n",
       "      <td>[oli, tirs]</td>\n",
       "      <td>4.83</td>\n",
       "      <td>...</td>\n",
       "      <td>LC91980302024168LGN00</td>\n",
       "      <td>198</td>\n",
       "      <td>2</td>\n",
       "      <td>134.478554</td>\n",
       "      <td>L2SP</td>\n",
       "      <td>64.418157</td>\n",
       "      <td>4.83</td>\n",
       "      <td>02</td>\n",
       "      <td>T1</td>\n",
       "      <td>EPSG:32631</td>\n",
       "    </tr>\n",
       "    <tr>\n",
       "      <th>3</th>\n",
       "      <td>POLYGON ((-0.60065 44.23863, -1.15535 42.52574...</td>\n",
       "      <td>30</td>\n",
       "      <td>2024-09-13T09:22:13.030127Z</td>\n",
       "      <td>10.5066/P9OGBGM6</td>\n",
       "      <td>2024-06-15T10:41:32.998525Z</td>\n",
       "      <td>landsat-8</td>\n",
       "      <td>[8051, 7941]</td>\n",
       "      <td>Landsat Collection 2 Level-2</td>\n",
       "      <td>[oli, tirs]</td>\n",
       "      <td>70.94</td>\n",
       "      <td>...</td>\n",
       "      <td>LC81990302024167LGN00</td>\n",
       "      <td>199</td>\n",
       "      <td>2</td>\n",
       "      <td>134.680119</td>\n",
       "      <td>L2SP</td>\n",
       "      <td>64.436792</td>\n",
       "      <td>70.94</td>\n",
       "      <td>02</td>\n",
       "      <td>T1</td>\n",
       "      <td>EPSG:32631</td>\n",
       "    </tr>\n",
       "    <tr>\n",
       "      <th>4</th>\n",
       "      <td>POLYGON ((0.93776 44.23872, 0.38438 42.52536, ...</td>\n",
       "      <td>30</td>\n",
       "      <td>2024-10-02T09:24:26.677324Z</td>\n",
       "      <td>10.5066/P9OGBGM6</td>\n",
       "      <td>2024-06-08T10:35:19.932569Z</td>\n",
       "      <td>landsat-8</td>\n",
       "      <td>[7971, 7851]</td>\n",
       "      <td>Landsat Collection 2 Level-2</td>\n",
       "      <td>[oli, tirs]</td>\n",
       "      <td>55.31</td>\n",
       "      <td>...</td>\n",
       "      <td>LC81980302024160LGN00</td>\n",
       "      <td>198</td>\n",
       "      <td>2</td>\n",
       "      <td>135.842640</td>\n",
       "      <td>L2SP</td>\n",
       "      <td>64.258141</td>\n",
       "      <td>55.31</td>\n",
       "      <td>02</td>\n",
       "      <td>T1</td>\n",
       "      <td>EPSG:32631</td>\n",
       "    </tr>\n",
       "    <tr>\n",
       "      <th>5</th>\n",
       "      <td>POLYGON ((-0.6647 44.23551, -1.21646 42.52216,...</td>\n",
       "      <td>30</td>\n",
       "      <td>2024-06-14T09:14:35.700612Z</td>\n",
       "      <td>10.5066/P9OGBGM6</td>\n",
       "      <td>2024-06-07T10:41:46.419305Z</td>\n",
       "      <td>landsat-9</td>\n",
       "      <td>[8041, 7941]</td>\n",
       "      <td>Landsat Collection 2 Level-2</td>\n",
       "      <td>[oli, tirs]</td>\n",
       "      <td>93.06</td>\n",
       "      <td>...</td>\n",
       "      <td>LC91990302024159LGN00</td>\n",
       "      <td>199</td>\n",
       "      <td>2</td>\n",
       "      <td>136.046018</td>\n",
       "      <td>L2SP</td>\n",
       "      <td>64.211212</td>\n",
       "      <td>93.06</td>\n",
       "      <td>02</td>\n",
       "      <td>T1</td>\n",
       "      <td>EPSG:32631</td>\n",
       "    </tr>\n",
       "  </tbody>\n",
       "</table>\n",
       "<p>6 rows × 23 columns</p>\n",
       "</div>"
      ],
      "text/plain": [
       "                                            geometry  gsd  \\\n",
       "0  POLYGON ((0.93365 44.2381, 0.38038 42.525, 2.5...   30   \n",
       "1  POLYGON ((-0.62675 44.23538, -1.17848 42.5222,...   30   \n",
       "2  POLYGON ((0.89504 44.23551, 0.34545 42.52177, ...   30   \n",
       "3  POLYGON ((-0.60065 44.23863, -1.15535 42.52574...   30   \n",
       "4  POLYGON ((0.93776 44.23872, 0.38438 42.52536, ...   30   \n",
       "5  POLYGON ((-0.6647 44.23551, -1.21646 42.52216,...   30   \n",
       "\n",
       "                       created           sci:doi                     datetime  \\\n",
       "0  2024-07-10T09:24:37.723939Z  10.5066/P9OGBGM6  2024-06-24T10:35:30.200884Z   \n",
       "1  2024-06-26T09:09:02.217478Z  10.5066/P9OGBGM6  2024-06-23T10:41:27.418211Z   \n",
       "2  2024-06-19T09:10:07.845224Z  10.5066/P9OGBGM6  2024-06-16T10:35:26.637558Z   \n",
       "3  2024-09-13T09:22:13.030127Z  10.5066/P9OGBGM6  2024-06-15T10:41:32.998525Z   \n",
       "4  2024-10-02T09:24:26.677324Z  10.5066/P9OGBGM6  2024-06-08T10:35:19.932569Z   \n",
       "5  2024-06-14T09:14:35.700612Z  10.5066/P9OGBGM6  2024-06-07T10:41:46.419305Z   \n",
       "\n",
       "    platform    proj:shape                   description  instruments  \\\n",
       "0  landsat-8  [7971, 7861]  Landsat Collection 2 Level-2  [oli, tirs]   \n",
       "1  landsat-9  [8041, 7941]  Landsat Collection 2 Level-2  [oli, tirs]   \n",
       "2  landsat-9  [7951, 7851]  Landsat Collection 2 Level-2  [oli, tirs]   \n",
       "3  landsat-8  [8051, 7941]  Landsat Collection 2 Level-2  [oli, tirs]   \n",
       "4  landsat-8  [7971, 7851]  Landsat Collection 2 Level-2  [oli, tirs]   \n",
       "5  landsat-9  [8041, 7941]  Landsat Collection 2 Level-2  [oli, tirs]   \n",
       "\n",
       "   eo:cloud_cover  ...       landsat:scene_id  landsat:wrs_path  \\\n",
       "0           11.57  ...  LC81980302024176LGN00               198   \n",
       "1           73.86  ...  LC91990302024175LGN00               199   \n",
       "2            4.83  ...  LC91980302024168LGN00               198   \n",
       "3           70.94  ...  LC81990302024167LGN00               199   \n",
       "4           55.31  ...  LC81980302024160LGN00               198   \n",
       "5           93.06  ...  LC91990302024159LGN00               199   \n",
       "\n",
       "  landsat:wrs_type view:sun_azimuth landsat:correction view:sun_elevation  \\\n",
       "0                2       133.795140               L2SP          64.241283   \n",
       "1                2       133.729813               L2SP          64.246992   \n",
       "2                2       134.478554               L2SP          64.418157   \n",
       "3                2       134.680119               L2SP          64.436792   \n",
       "4                2       135.842640               L2SP          64.258141   \n",
       "5                2       136.046018               L2SP          64.211212   \n",
       "\n",
       "   landsat:cloud_cover_land landsat:collection_number  \\\n",
       "0                     11.57                        02   \n",
       "1                     73.86                        02   \n",
       "2                      4.83                        02   \n",
       "3                     70.94                        02   \n",
       "4                     55.31                        02   \n",
       "5                     93.06                        02   \n",
       "\n",
       "   landsat:collection_category   proj:code  \n",
       "0                           T1  EPSG:32631  \n",
       "1                           T1  EPSG:32631  \n",
       "2                           T1  EPSG:32631  \n",
       "3                           T1  EPSG:32631  \n",
       "4                           T1  EPSG:32631  \n",
       "5                           T1  EPSG:32631  \n",
       "\n",
       "[6 rows x 23 columns]"
      ]
     },
     "execution_count": 25,
     "metadata": {},
     "output_type": "execute_result"
    }
   ],
   "source": [
    "import geopandas\n",
    "\n",
    "df = geopandas.GeoDataFrame.from_features(items.to_dict(), crs=\"epsg:4326\")\n",
    "df"
   ]
  },
  {
   "cell_type": "code",
   "execution_count": 26,
   "id": "c288ae1a-7f06-43eb-aaf7-4d3e1acc365d",
   "metadata": {},
   "outputs": [
    {
     "name": "stdout",
     "output_type": "stream",
     "text": [
      "<Item id=LC09_L2SP_198030_20240616_02_T1>\n"
     ]
    }
   ],
   "source": [
    "selected_item = min(items, key=lambda item: item.properties[\"eo:cloud_cover\"])\n",
    "print(selected_item)"
   ]
  },
  {
   "cell_type": "code",
   "execution_count": 27,
   "id": "3e3acf92-9a47-464c-aa8a-079f115230a4",
   "metadata": {},
   "outputs": [
    {
     "data": {
      "text/html": [
       "<pre style=\"white-space:pre;overflow-x:auto;line-height:normal;font-family:Menlo,'DejaVu Sans Mono',consolas,'Courier New',monospace\">┏━━━━━━━━━━━━━━━━━━┳━━━━━━━━━━━━━━━━━━━━━━━━━━━━━━━━━━━━━━━━━━━━━━━━━━━━━━━━━━━━━━━━━━━━━━┓\n",
       "┃<span style=\"font-weight: bold\"> Asset Key        </span>┃<span style=\"font-weight: bold\"> Description                                                          </span>┃\n",
       "┡━━━━━━━━━━━━━━━━━━╇━━━━━━━━━━━━━━━━━━━━━━━━━━━━━━━━━━━━━━━━━━━━━━━━━━━━━━━━━━━━━━━━━━━━━━┩\n",
       "│ qa               │ Surface Temperature Quality Assessment Band                          │\n",
       "│ ang              │ Angle Coefficients File                                              │\n",
       "│ red              │ Red Band                                                             │\n",
       "│ blue             │ Blue Band                                                            │\n",
       "│ drad             │ Downwelled Radiance Band                                             │\n",
       "│ emis             │ Emissivity Band                                                      │\n",
       "│ emsd             │ Emissivity Standard Deviation Band                                   │\n",
       "│ trad             │ Thermal Radiance Band                                                │\n",
       "│ urad             │ Upwelled Radiance Band                                               │\n",
       "│ atran            │ Atmospheric Transmittance Band                                       │\n",
       "│ cdist            │ Cloud Distance Band                                                  │\n",
       "│ green            │ Green Band                                                           │\n",
       "│ nir08            │ Near Infrared Band 0.8                                               │\n",
       "│ lwir11           │ Surface Temperature Band                                             │\n",
       "│ swir16           │ Short-wave Infrared Band 1.6                                         │\n",
       "│ swir22           │ Short-wave Infrared Band 2.2                                         │\n",
       "│ coastal          │ Coastal/Aerosol Band                                                 │\n",
       "│ mtl.txt          │ Product Metadata File (txt)                                          │\n",
       "│ mtl.xml          │ Product Metadata File (xml)                                          │\n",
       "│ mtl.json         │ Product Metadata File (json)                                         │\n",
       "│ qa_pixel         │ Pixel Quality Assessment Band                                        │\n",
       "│ qa_radsat        │ Radiometric Saturation and Terrain Occlusion Quality Assessment Band │\n",
       "│ qa_aerosol       │ Aerosol Quality Assessment Band                                      │\n",
       "│ tilejson         │ TileJSON with default rendering                                      │\n",
       "│ rendered_preview │ Rendered preview                                                     │\n",
       "└──────────────────┴──────────────────────────────────────────────────────────────────────┘\n",
       "</pre>\n"
      ],
      "text/plain": [
       "┏━━━━━━━━━━━━━━━━━━┳━━━━━━━━━━━━━━━━━━━━━━━━━━━━━━━━━━━━━━━━━━━━━━━━━━━━━━━━━━━━━━━━━━━━━━┓\n",
       "┃\u001b[1m \u001b[0m\u001b[1mAsset Key       \u001b[0m\u001b[1m \u001b[0m┃\u001b[1m \u001b[0m\u001b[1mDescription                                                         \u001b[0m\u001b[1m \u001b[0m┃\n",
       "┡━━━━━━━━━━━━━━━━━━╇━━━━━━━━━━━━━━━━━━━━━━━━━━━━━━━━━━━━━━━━━━━━━━━━━━━━━━━━━━━━━━━━━━━━━━┩\n",
       "│ qa               │ Surface Temperature Quality Assessment Band                          │\n",
       "│ ang              │ Angle Coefficients File                                              │\n",
       "│ red              │ Red Band                                                             │\n",
       "│ blue             │ Blue Band                                                            │\n",
       "│ drad             │ Downwelled Radiance Band                                             │\n",
       "│ emis             │ Emissivity Band                                                      │\n",
       "│ emsd             │ Emissivity Standard Deviation Band                                   │\n",
       "│ trad             │ Thermal Radiance Band                                                │\n",
       "│ urad             │ Upwelled Radiance Band                                               │\n",
       "│ atran            │ Atmospheric Transmittance Band                                       │\n",
       "│ cdist            │ Cloud Distance Band                                                  │\n",
       "│ green            │ Green Band                                                           │\n",
       "│ nir08            │ Near Infrared Band 0.8                                               │\n",
       "│ lwir11           │ Surface Temperature Band                                             │\n",
       "│ swir16           │ Short-wave Infrared Band 1.6                                         │\n",
       "│ swir22           │ Short-wave Infrared Band 2.2                                         │\n",
       "│ coastal          │ Coastal/Aerosol Band                                                 │\n",
       "│ mtl.txt          │ Product Metadata File (txt)                                          │\n",
       "│ mtl.xml          │ Product Metadata File (xml)                                          │\n",
       "│ mtl.json         │ Product Metadata File (json)                                         │\n",
       "│ qa_pixel         │ Pixel Quality Assessment Band                                        │\n",
       "│ qa_radsat        │ Radiometric Saturation and Terrain Occlusion Quality Assessment Band │\n",
       "│ qa_aerosol       │ Aerosol Quality Assessment Band                                      │\n",
       "│ tilejson         │ TileJSON with default rendering                                      │\n",
       "│ rendered_preview │ Rendered preview                                                     │\n",
       "└──────────────────┴──────────────────────────────────────────────────────────────────────┘\n"
      ]
     },
     "execution_count": 27,
     "metadata": {},
     "output_type": "execute_result"
    }
   ],
   "source": [
    "import rich.table\n",
    "\n",
    "table = rich.table.Table(\"Asset Key\", \"Description\")\n",
    "for asset_key, asset in selected_item.assets.items():\n",
    "    table.add_row(asset_key, asset.title)\n",
    "\n",
    "table"
   ]
  },
  {
   "cell_type": "code",
   "execution_count": 28,
   "id": "0c5296d9-59f4-487e-83bf-2b6ac1df6b90",
   "metadata": {},
   "outputs": [
    {
     "data": {
      "text/plain": [
       "{'href': 'https://planetarycomputer.microsoft.com/api/data/v1/item/preview.png?collection=landsat-c2-l2&item=LC09_L2SP_198030_20240616_02_T1&assets=red&assets=green&assets=blue&color_formula=gamma+RGB+2.7%2C+saturation+1.5%2C+sigmoidal+RGB+15+0.55&format=png',\n",
       " 'type': 'image/png',\n",
       " 'title': 'Rendered preview',\n",
       " 'rel': 'preview',\n",
       " 'roles': ['overview']}"
      ]
     },
     "execution_count": 28,
     "metadata": {},
     "output_type": "execute_result"
    }
   ],
   "source": [
    "selected_item.assets[\"rendered_preview\"].to_dict()"
   ]
  },
  {
   "cell_type": "code",
   "execution_count": 29,
   "id": "86ae9467-f493-430e-9f08-93ef75450276",
   "metadata": {},
   "outputs": [
    {
     "data": {
      "text/html": [
       "<img src=\"https://planetarycomputer.microsoft.com/api/data/v1/item/preview.png?collection=landsat-c2-l2&item=LC09_L2SP_198030_20240616_02_T1&assets=red&assets=green&assets=blue&color_formula=gamma+RGB+2.7%2C+saturation+1.5%2C+sigmoidal+RGB+15+0.55&format=png\" width=\"500\"/>"
      ],
      "text/plain": [
       "<IPython.core.display.Image object>"
      ]
     },
     "execution_count": 29,
     "metadata": {},
     "output_type": "execute_result"
    }
   ],
   "source": [
    "from IPython.display import Image\n",
    "\n",
    "Image(url=selected_item.assets[\"rendered_preview\"].href, width=500)"
   ]
  },
  {
   "cell_type": "code",
   "execution_count": 30,
   "id": "a03d66d3-afc3-4b95-8e82-6ef082bcbaf7",
   "metadata": {},
   "outputs": [
    {
     "data": {
      "text/plain": [
       "'https://landsateuwest.blob.core.windows.net/landsat-c2/level-2/standard/oli-tirs/2024/198/030/LC09_L2SP_198030_20240616_20240617_02_T1/LC09_L2SP_198030_20240616_20240617_02_T1_SR_B2.TIF?st=2025-03-30T14%3A26%3A26Z&se=2025-03-31T15%3A11%3A26Z&sp=rl&sv'"
      ]
     },
     "execution_count": 30,
     "metadata": {},
     "output_type": "execute_result"
    }
   ],
   "source": [
    "selected_item.assets[\"blue\"].href[:250]"
   ]
  },
  {
   "cell_type": "code",
   "execution_count": 31,
   "id": "932b2a44-3187-45c7-96d8-5d15da3e20e5",
   "metadata": {},
   "outputs": [
    {
     "data": {
      "text/plain": [
       "200"
      ]
     },
     "execution_count": 31,
     "metadata": {},
     "output_type": "execute_result"
    }
   ],
   "source": [
    "import requests\n",
    "\n",
    "requests.head(selected_item.assets[\"blue\"].href).status_code"
   ]
  },
  {
   "cell_type": "code",
   "execution_count": null,
   "id": "297a5de0-9c09-4b85-9bc3-5e02fd14bd0f",
   "metadata": {},
   "outputs": [],
   "source": []
  }
 ],
 "metadata": {
  "kernelspec": {
   "display_name": "Python 3 (ipykernel)",
   "language": "python",
   "name": "python3"
  },
  "language_info": {
   "codemirror_mode": {
    "name": "ipython",
    "version": 3
   },
   "file_extension": ".py",
   "mimetype": "text/x-python",
   "name": "python",
   "nbconvert_exporter": "python",
   "pygments_lexer": "ipython3",
   "version": "3.12.9"
  }
 },
 "nbformat": 4,
 "nbformat_minor": 5
}
