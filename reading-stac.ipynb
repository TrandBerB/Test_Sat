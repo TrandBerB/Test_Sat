{
 "cells": [
  {
   "cell_type": "markdown",
   "id": "7f43303d-45af-4167-a904-dff2e27ceafa",
   "metadata": {},
   "source": [
    "## Reading Data from the STAC API\n",
    "\n",
    "The Planetary Computer catalogs the datasets we host using the [STAC](http://stacspec.org/) (SpatioTemporal Asset Catalog) specification. We provide a [STAC API](https://github.com/radiantearth/stac-api-spec) endpoint for searching our datasets by space, time, and more. This quickstart will show you how to search for data using our STAC API and open-source Python libraries. To use our STAC API from R, see [Reading data from the STAC API with R](https://planetarycomputer.microsoft.com/docs/quickstarts/reading-stac-r/).\n",
    "\n",
    "To get started you'll need the [pystac-client](https://github.com/stac-utils/pystac-client) library installed. You can install it via pip:\n",
    "\n",
    "```\n",
    "> python -m pip install pystac-client\n",
    "> python -m pip install planetary_computer\n",
    "> python -m pip install rioxarray\n",
    "```\n",
    "\n",
    "To access the data, we'll create a `pystac_client.Client`. We'll explain the `modifier` part later on, but it's what lets us download the data assets Azure Blob Storage."
   ]
  },
  {
   "cell_type": "code",
   "execution_count": null,
   "id": "d61ad6d8-3279-447a-b4c2-d911d3a1799d",
   "metadata": {},
   "outputs": [],
   "source": [
    "! python -m pip install pystac-client\n",
    "! python -m pip install planetary_computer\n",
    "! python -m pip install rioxarray"
   ]
  },
  {
   "cell_type": "code",
   "execution_count": null,
   "id": "b93c613e-b259-41d3-95bf-c9aa823a9679",
   "metadata": {
    "tags": []
   },
   "outputs": [],
   "source": [
    "import pystac_client\n",
    "import planetary_computer\n",
    "\n",
    "catalog = pystac_client.Client.open(\n",
    "    \"https://planetarycomputer.microsoft.com/api/stac/v1\",\n",
    "    modifier=planetary_computer.sign_inplace,\n",
    ")"
   ]
  },
  {
   "cell_type": "markdown",
   "id": "6a4d5a87-8f2f-4c1f-a013-bb8efaa1e4f6",
   "metadata": {},
   "source": [
    "### Searching\n",
    "\n",
    "We can use the STAC API to search for assets meeting some criteria. This might include the date and time the asset covers, is spatial extent, or any other property captured in the STAC item's metadata.\n",
    "\n",
    "In this example we'll search for imagery from [Landsat Collection 2 Level-2](https://planetarycomputer.microsoft.com/dataset/landsat-c2-l2) area around Muret (31) in June of 2021.\n",
    "\n",
    "bbox = Ox (31)\n",
    "    "
   ]
  },
  {
   "cell_type": "code",
   "execution_count": null,
   "id": "2ec73f94-3989-49cf-920a-fde66c7946b8",
   "metadata": {
    "tags": []
   },
   "outputs": [],
   "source": [
    "time_range = \"2024-06-01/2024-06-30\"\n",
    "# bbox = [-122.2751, 47.5469, -121.9613, 47.7458]\n",
    "bbox = [1.283083,43.439552,1.302631,43.451268]\n",
    "# bbox = Ox (31)\n",
    "\n",
    "search = catalog.search(collections=[\"landsat-c2-l2\"], bbox=bbox, datetime=time_range)\n",
    "# items = search.get_all_items()\n",
    "items = search.item_collection()\n",
    "len(items)"
   ]
  },
  {
   "cell_type": "markdown",
   "id": "84143827-ff63-4946-a995-ebc101f18d52",
   "metadata": {},
   "source": [
    "In that example our spatial query used a bounding box with a `bbox`. Alternatively, you can pass a GeoJSON object as `intersects`\n",
    "\n",
    "```python\n",
    "area_of_interest = {\n",
    "    \"type\": \"Polygon\",\n",
    "    \"coordinates\": [\n",
    "        [\n",
    "            [-122.2751, 47.5469],\n",
    "            [-121.9613, 47.9613],\n",
    "            [-121.9613, 47.9613],\n",
    "            [-122.2751, 47.9613],\n",
    "            [-122.2751, 47.5469],\n",
    "        ]\n",
    "    ],\n",
    "}\n",
    "\n",
    "time_range = \"2020-12-01/2020-12-31\"\n",
    "\n",
    "search = catalog.search(\n",
    "    collections=[\"landsat-c2-l2\"], intersects=area_of_interest, datetime=time_range\n",
    ")\n",
    "```"
   ]
  },
  {
   "cell_type": "markdown",
   "id": "aedaf9f7-1ba2-472d-85e1-5838e7df9ffb",
   "metadata": {},
   "source": [
    "`items` is a [`pystac.ItemCollection`](https://pystac.readthedocs.io/en/stable/api/item_collection.html#pystac-item-collection). We can see that 4 items matched our search criteria."
   ]
  },
  {
   "cell_type": "code",
   "execution_count": null,
   "id": "c62e1ca1-0be3-45a6-bb8a-5fd048a5478c",
   "metadata": {
    "tags": []
   },
   "outputs": [],
   "source": [
    "len(items)"
   ]
  },
  {
   "cell_type": "markdown",
   "id": "6b36c181-a163-4e40-9ad0-3accacc82010",
   "metadata": {},
   "source": [
    "Each [`pystac.Item`](https://pystac.readthedocs.io/en/stable/api/pystac.html#pystac.Item) in this `ItemCollection` includes all the metadata for that scene. [STAC Items](https://github.com/radiantearth/stac-spec/blob/master/item-spec/item-spec.md) are GeoJSON features, and so can be loaded by libraries like [geopandas](http://geopandas.readthedocs.io/)."
   ]
  },
  {
   "cell_type": "code",
   "execution_count": null,
   "id": "b95c28ed-0ab1-4d4c-aa0f-a0382f694238",
   "metadata": {
    "scrolled": true,
    "tags": []
   },
   "outputs": [],
   "source": [
    "import geopandas\n",
    "\n",
    "df = geopandas.GeoDataFrame.from_features(items.to_dict(), crs=\"epsg:4326\")\n",
    "df"
   ]
  },
  {
   "cell_type": "markdown",
   "id": "e88bc7eb-fd2f-48b1-a3d7-dc96d8b7635c",
   "metadata": {},
   "source": [
    "Some collections implement the `eo` extension, which we can use to sort the items by cloudiness. We'll grab an item with low cloudiness:"
   ]
  },
  {
   "cell_type": "code",
   "execution_count": null,
   "id": "c60accc9-4126-4609-8a65-406719b5485b",
   "metadata": {
    "tags": []
   },
   "outputs": [],
   "source": [
    "selected_item = min(items, key=lambda item: item.properties[\"eo:cloud_cover\"])\n",
    "print(selected_item)"
   ]
  },
  {
   "cell_type": "markdown",
   "id": "9be696c5-c9b9-4dcb-a876-a645d384fa83",
   "metadata": {},
   "source": [
    "Each STAC item has one or more [Assets](https://github.com/radiantearth/stac-spec/blob/master/item-spec/item-spec.md#asset-object), which include links to the actual files."
   ]
  },
  {
   "cell_type": "code",
   "execution_count": null,
   "id": "f507b45d-5985-4f10-9850-c1b3947c9908",
   "metadata": {
    "tags": []
   },
   "outputs": [],
   "source": [
    "import rich.table\n",
    "\n",
    "table = rich.table.Table(\"Asset Key\", \"Description\")\n",
    "for asset_key, asset in selected_item.assets.items():\n",
    "    table.add_row(asset_key, asset.title)\n",
    "\n",
    "table"
   ]
  },
  {
   "cell_type": "markdown",
   "id": "fe4053e4-6c1e-46b7-947d-79811a2877e4",
   "metadata": {},
   "source": [
    "Here, we'll inspect the `rendered_preview` asset."
   ]
  },
  {
   "cell_type": "code",
   "execution_count": null,
   "id": "f175aa10-8f97-4ea3-8fda-c6fe4469baea",
   "metadata": {
    "tags": []
   },
   "outputs": [],
   "source": [
    "selected_item.assets[\"rendered_preview\"].to_dict()"
   ]
  },
  {
   "cell_type": "code",
   "execution_count": null,
   "id": "fa3628b5-2824-47c7-94e9-5f413692caa1",
   "metadata": {
    "tags": []
   },
   "outputs": [],
   "source": [
    "from IPython.display import Image\n",
    "\n",
    "Image(url=selected_item.assets[\"rendered_preview\"].href, width=500)"
   ]
  },
  {
   "cell_type": "markdown",
   "id": "217ebd45-36a6-4bb1-ac76-b8104e50350c",
   "metadata": {},
   "source": [
    "That `rendered_preview` asset is generated dynamically from the raw data using the Planetary Computer's [data API](http://planetarycomputer.microsoft.com/api/data/v1/). We can access the raw data, stored as Cloud Optimzied GeoTIFFs in Azure Blob Storage, using one of the other assets.\n",
    "\n",
    "The actual data assets are in *private* [Azure Blob Storage containers](https://docs.microsoft.com/en-us/azure/storage/blobs/storage-blobs-introduction#containers). If forget to pass `modifier=planetary_computer.sign_inplace` or manually sign the item, then you'll get a 404 when trying to access the asset.\n",
    "\n",
    "That's why we included the `modifier=planetary_computer.sign_inplace` when we created the `pystac_client.Client` earlier. With that, the results returned by pystac-client are automatically signed, so that a token granting access to the file is included in the URL."
   ]
  },
  {
   "cell_type": "markdown",
   "id": "74de2024-b5d2-4a4e-a941-20728567b882",
   "metadata": {},
   "source": [
    "Je veux sauvegarder cette image sur s3  \n",
    "**Exporter des données vers MinIO**  \n",
    " * voir Onyxia/Mon Compte/Connexion au stockage "
   ]
  },
  {
   "cell_type": "code",
   "execution_count": null,
   "id": "cbf1f186-869d-4c27-a61f-fab1f3ab80cf",
   "metadata": {},
   "outputs": [],
   "source": [
    "# les variables d'environnement sont dans utils.py\n",
    "import utils"
   ]
  },
  {
   "cell_type": "code",
   "execution_count": null,
   "id": "e936fb7f-f43d-4ec1-ad5e-54bc3b89ee75",
   "metadata": {},
   "outputs": [],
   "source": [
    "# paramétrage de s3fs\n",
    "import s3fs\n",
    "fs = s3fs.S3FileSystem(\n",
    "    client_kwargs={'endpoint_url': 'https://'+'minio.lab.sspcloud.fr'},\n",
    "    key = os.environ[\"AWS_ACCESS_KEY_ID\"], \n",
    "    secret = os.environ[\"AWS_SECRET_ACCESS_KEY\"], \n",
    "    token = os.environ[\"AWS_SESSION_TOKEN\"])"
   ]
  },
  {
   "cell_type": "code",
   "execution_count": null,
   "id": "b964f2cb-13e8-404e-9a7c-f73454a3b7b1",
   "metadata": {},
   "outputs": [],
   "source": [
    "# Soluce ChatGPT\n",
    "import requests\n",
    "from io import BytesIO\n",
    "\n",
    "# Configuration AWS (optionnel si tes credentials sont déjà configurés) => voir onyxia/mes fichiers\n",
    "BUCKET_NAME = \"bballet/test_sat\"\n",
    "S3_FILENAME = \"image_20250409.jpg\"  # Nom sous lequel l'image sera stockée\n",
    "\n",
    "# URL de l'image\n",
    "image_url = selected_item.assets[\"rendered_preview\"].href\n",
    "\n",
    "# Télécharger l'image depuis l'URL\n",
    "response = requests.get(image_url)\n",
    "if response.status_code == 200:\n",
    "    image_data = BytesIO(response.content)  # Convertir en format binaire\n",
    "\n",
    "    # Initialiser S3FS => déjà fait plus haut \n",
    "    # fs = s3fs.S3FileSystem()\n",
    "\n",
    "    # Sauvegarder l'image dans S3\n",
    "    with fs.open(f\"{BUCKET_NAME}/{S3_FILENAME}\", \"wb\") as f:\n",
    "        f.write(image_data.getbuffer())\n",
    "\n",
    "    print(f\"Image uploadée avec succès sur S3: s3://{BUCKET_NAME}/{S3_FILENAME}\")\n",
    "else:\n",
    "    print(\"Échec du téléchargement de l'image\")\n"
   ]
  },
  {
   "cell_type": "code",
   "execution_count": null,
   "id": "c7e5a5b1-942a-4fbf-9536-969ca8b55c49",
   "metadata": {
    "tags": []
   },
   "outputs": [],
   "source": [
    "selected_item.assets[\"blue\"].href[:250]"
   ]
  },
  {
   "cell_type": "markdown",
   "id": "3779e4dc-72d0-4a77-8d83-b49f67e16a5c",
   "metadata": {},
   "source": [
    " Everything after the `?` in that URL is a [SAS token](https://docs.microsoft.com/en-us/azure/storage/common/storage-sas-overview) grants access to the data. See https://planetarycomputer.microsoft.com/docs/concepts/sas/ for more on using tokens to access data."
   ]
  },
  {
   "cell_type": "code",
   "execution_count": null,
   "id": "aefcb71d-31ba-4211-b7a5-7966c13304ef",
   "metadata": {
    "tags": []
   },
   "outputs": [],
   "source": [
    "import requests\n",
    "\n",
    "requests.head(selected_item.assets[\"blue\"].href).status_code"
   ]
  },
  {
   "cell_type": "markdown",
   "id": "65686af5-414e-4482-af27-fb680b179930",
   "metadata": {},
   "source": [
    "The `200` status code indicates that we were able to successfully access the data using the \"signed\" URL with the SAS token included."
   ]
  },
  {
   "cell_type": "markdown",
   "id": "29feea6d-400d-4573-82ba-835918adb701",
   "metadata": {},
   "source": [
    "We can load up that single COG using libraries like [rioxarray](https://corteva.github.io/rioxarray/html/rioxarray.html) or [rasterio](https://rasterio.readthedocs.io/en/latest/)"
   ]
  },
  {
   "cell_type": "code",
   "execution_count": null,
   "id": "58481f78-40b5-486d-bf36-ab333206bdb4",
   "metadata": {
    "tags": []
   },
   "outputs": [],
   "source": [
    "# import xarray as xr\n",
    "import rioxarray\n",
    "\n",
    "ds = rioxarray.open_rasterio(\n",
    "    selected_item.assets[\"blue\"].href, overview_level=4\n",
    ").squeeze()\n",
    "img = ds.plot(cmap=\"Blues\", add_colorbar=False)\n",
    "img.axes.set_axis_off();"
   ]
  },
  {
   "cell_type": "markdown",
   "id": "d3c08641-fbb6-425f-a3ca-975ca1d425a4",
   "metadata": {},
   "source": [
    "If you wish to work with multiple STAC items as a datacube, you can use libraries like [stackstac](https://stackstac.readthedocs.io/) or [odc-stac](https://odc-stac.readthedocs.io/en/latest/index.html)."
   ]
  },
  {
   "cell_type": "code",
   "execution_count": null,
   "id": "5cb82a6f-f69d-4f6a-8ab1-bd92d255de65",
   "metadata": {},
   "outputs": [],
   "source": [
    "! python -m pip install stackstac"
   ]
  },
  {
   "cell_type": "code",
   "execution_count": null,
   "id": "b3478333-cedc-4ab1-8d0f-333bf75d539e",
   "metadata": {},
   "outputs": [],
   "source": [
    "# cellule de config globale\n",
    "execution_autorisee = False"
   ]
  },
  {
   "cell_type": "code",
   "execution_count": null,
   "id": "679325ab-9cbe-4b39-b710-e9549e4f2853",
   "metadata": {},
   "outputs": [],
   "source": [
    "# ChatGPT 1. Vérifier le CRS de chaque asset avant le stacking\n",
    "if not execution_autorisee:\n",
    "   raise RuntimeError(\"⛔ Cette cellule est désactivée. Active 'execution_autorisee' pour l’exécuter.\")\n",
    "\n",
    "for i, item in enumerate(items):\n",
    "    print(f\"Item {i}: {item.id}\")\n",
    "    for asset_key, asset in item.assets.items():\n",
    "        print(f\"  - Asset: {asset_key}, CRS: {asset.extra_fields.get('proj:epsg', 'Non défini')}\")\n",
    "\n",
    "print(\"Cellule autorisée !\")"
   ]
  },
  {
   "cell_type": "code",
   "execution_count": null,
   "id": "1014a1bc-146d-46ac-a551-603d88431dc5",
   "metadata": {},
   "outputs": [],
   "source": [
    "# C_GPT 2. Ajouter un CRS par défaut si manquant\n",
    "for item in items:\n",
    "    for asset in item.assets.values():\n",
    "        if \"proj:epsg\" not in asset.extra_fields:\n",
    "            asset.extra_fields[\"proj:epsg\"] = 4326  # Assigne EPSG:4326 si manquant\n"
   ]
  },
  {
   "cell_type": "code",
   "execution_count": null,
   "id": "d4a749a5-4a05-405b-8c81-9c10317c9e33",
   "metadata": {
    "tags": []
   },
   "outputs": [],
   "source": [
    "import stackstac\n",
    "\n",
    "ds = stackstac.stack(items)\n",
    "ds"
   ]
  },
  {
   "cell_type": "markdown",
   "id": "fc96240e-edb9-4e6d-9c70-645d91813a7f",
   "metadata": {},
   "source": [
    "### Searching on additional properties\n",
    "\n",
    "Previously, we searched for items by space and time. Because the Planetary Computer's STAC API supports the [query](https://github.com/radiantearth/stac-api-spec/blob/master/fragments/query/README.md) parameter, you can search on additional properties on the STAC item.\n",
    "\n",
    "For example, collections like `sentinel-2-l2a` and `landsat-c2-l2` both implement the [`eo` STAC extension](https://github.com/stac-extensions/eo) and include an `eo:cloud_cover` property. Use `query={\"eo:cloud_cover\": {\"lt\": 20}}` to return only items that are less than 20% cloudy."
   ]
  },
  {
   "cell_type": "code",
   "execution_count": null,
   "id": "18c2f286-654a-479a-9ae0-0f819250b575",
   "metadata": {
    "tags": []
   },
   "outputs": [],
   "source": [
    "time_range = \"2024-06-01/2024-06-30\"\n",
    "# bbox = [-122.2751, 47.5469, -121.9613, 47.7458]\n",
    "bbox = [1.283083,43.439552,1.302631,43.451268]\n",
    "# bbox = Ox (31)\n",
    "\n",
    "search = catalog.search(\n",
    "    collections=[\"sentinel-2-l2a\"],\n",
    "    bbox=bbox,\n",
    "    datetime=time_range,\n",
    "    query={\"eo:cloud_cover\": {\"lt\": 20}},\n",
    ")\n",
    "items = search.item_collection()"
   ]
  },
  {
   "cell_type": "code",
   "execution_count": null,
   "id": "47de2f31-35f8-4728-8e9a-bc72ef6fbfec",
   "metadata": {},
   "outputs": [],
   "source": [
    "selected_item = min(items, key=lambda item: item.properties[\"eo:cloud_cover\"])\n",
    "print(selected_item)"
   ]
  },
  {
   "cell_type": "code",
   "execution_count": null,
   "id": "548532fe-064d-4c33-8c19-4cee9c42f4d4",
   "metadata": {},
   "outputs": [],
   "source": [
    "print(selected_item.assets[\"visual\"].href)"
   ]
  },
  {
   "cell_type": "code",
   "execution_count": null,
   "id": "6bbfe76f-58d5-4cb9-9b03-a84d81b853ef",
   "metadata": {},
   "outputs": [],
   "source": [
    "import requests\n",
    "from IPython.display import Image, display\n",
    "\n",
    "url = selected_item.assets[\"visual\"].href\n",
    "response = requests.get(url)\n",
    "\n",
    "\n",
    "if response.status_code == 200:\n",
    "    with open(\"temp_image.jpg\", \"wb\") as f:\n",
    "        f.write(response.content)\n",
    "    display(Image(\"temp_image.jpg\", width=500))\n",
    "else:\n",
    "    print(\"Image non accessible :\", response.status_code)\n",
    "\n",
    "# Sauvegarder l'image dans S3\n",
    "if response.status_code == 200:\n",
    "    with fs.open(f\"{BUCKET_NAME}/{S3_FILENAME}\", \"wb\") as f:\n",
    "        f.write(image_data.getbuffer())\n",
    "\n",
    "    print(f\"Image uploadée avec succès sur S3: s3://{BUCKET_NAME}/{S3_FILENAME}\")\n",
    "else:\n",
    "    print(\"Échec du téléchargement de l'image\")\n"
   ]
  },
  {
   "cell_type": "markdown",
   "id": "0536c1f7-f497-471e-8726-eaffc15e8844",
   "metadata": {},
   "source": [
    "Problème confirmé :\n",
    "IPython.display.Image(url=...) ne peut pas afficher directement une image au format .tif, surtout quand c’est un GeoTIFF riche en métadonnées spatiales."
   ]
  },
  {
   "cell_type": "code",
   "execution_count": null,
   "id": "5a44c892-cc65-46e0-bf77-9adaae7327ff",
   "metadata": {},
   "outputs": [],
   "source": [
    "import requests\n",
    "import rasterio\n",
    "import matplotlib.pyplot as plt\n",
    "from rasterio.plot import show\n",
    "\n",
    "# Téléchargement de l'image GeoTIFF\n",
    "url = selected_item.assets[\"visual\"].href\n",
    "response = requests.get(url)\n",
    "\n",
    "with open(\"image.tif\", \"wb\") as f:\n",
    "    f.write(response.content)\n",
    "\n",
    "# Lecture avec rasterio\n",
    "with rasterio.open(\"image.tif\") as src:\n",
    "    img = src.read([1, 2, 3])  # Lire les 3 bandes RGB (ordre B04, B03, B02 dans Sentinel-2)\n",
    "\n",
    "# Affichage avec matplotlib\n",
    "plt.figure(figsize=(10, 10))\n",
    "show(img, transform=src.transform)\n",
    "plt.axis('off')\n",
    "plt.title(\"Image Sentinel-2 RGB\")\n",
    "plt.show()\n"
   ]
  },
  {
   "cell_type": "markdown",
   "id": "fda18a4d-7421-420b-a918-c45ce43833a9",
   "metadata": {},
   "source": [
    "Other common uses of the `query` parameter is to filter a collection down to items of a specific type, For example, the [GOES-CMI](https://planetarycomputer.microsoft.com/dataset/goes-cmi) collection includes images from various when the satellite is in various modes, which produces images of either the Full Disk of the earth, the continental United States, or a mesoscale. You can use `goes:image-type` to filter down to just the ones you want."
   ]
  },
  {
   "cell_type": "code",
   "execution_count": null,
   "id": "d2db005e-9732-43e2-89c1-3133a6fda2d1",
   "metadata": {
    "tags": []
   },
   "outputs": [],
   "source": [
    "search = catalog.search(\n",
    "    collections=[\"goes-cmi\"],\n",
    "    bbox=[-67.2729, 25.6000, -61.7999, 27.5423],\n",
    "    datetime=[\"2018-09-11T13:00:00Z\", \"2018-09-11T15:40:00Z\"],\n",
    "    query={\"goes:image-type\": {\"eq\": \"MESOSCALE\"}},\n",
    ")"
   ]
  },
  {
   "cell_type": "markdown",
   "id": "10cb5d51-7d01-4d8b-ad14-1c3df6cea258",
   "metadata": {},
   "source": [
    "### Analyzing STAC Metadata\n",
    "\n",
    "STAC items are proper GeoJSON Features, and so can be treated as a kind of data on their own."
   ]
  },
  {
   "cell_type": "code",
   "execution_count": null,
   "id": "732becc9-80b9-483e-9433-0fb392193b7c",
   "metadata": {},
   "outputs": [],
   "source": [
    "! python -m pip install contextily"
   ]
  },
  {
   "cell_type": "code",
   "execution_count": null,
   "id": "0283b780-d1c8-4715-bcc0-0e533110020f",
   "metadata": {
    "tags": []
   },
   "outputs": [],
   "source": [
    "import contextily\n",
    "import geopandas\n",
    "\n",
    "search = catalog.search(\n",
    "    collections=[\"sentinel-2-l2a\"],\n",
    "    bbox=[-124.2751, 45.5469, -110.9613, 47.7458],\n",
    "    datetime=\"2020-12-26/2020-12-31\",\n",
    ")\n",
    "items = search.item_collection()\n",
    "\n",
    "df = geopandas.GeoDataFrame.from_features(items.to_dict(), crs=\"epsg:4326\")\n",
    "\n",
    "ax = df[[\"geometry\", \"datetime\", \"s2:mgrs_tile\", \"eo:cloud_cover\"]].plot(\n",
    "    facecolor=\"none\", figsize=(12, 6)\n",
    ")\n",
    "contextily.add_basemap(\n",
    "    ax, crs=df.crs.to_string(), source=contextily.providers.Esri.NatGeoWorldMap\n",
    ");"
   ]
  },
  {
   "cell_type": "code",
   "execution_count": null,
   "id": "8da4dc2f-ceaf-43ef-80e3-02bbb1d10fab",
   "metadata": {},
   "outputs": [],
   "source": [
    "df[[\"geometry\", \"datetime\", \"s2:mgrs_tile\", \"eo:cloud_cover\"]].head()"
   ]
  },
  {
   "cell_type": "code",
   "execution_count": null,
   "id": "a0c93a44-cc84-49c4-9c85-e7179fca6383",
   "metadata": {},
   "outputs": [],
   "source": [
    "df.sort_values(\"eo:cloud_cover\")[[\"datetime\", \"s2:mgrs_tile\", \"eo:cloud_cover\"]]"
   ]
  },
  {
   "cell_type": "markdown",
   "id": "debaa186-f987-49c0-a476-98835207fd1f",
   "metadata": {},
   "source": [
    "Or we can plot cloudiness of a region over time."
   ]
  },
  {
   "cell_type": "code",
   "execution_count": null,
   "id": "548b344f-4c5e-41a7-bc27-9fe5d3bf3845",
   "metadata": {
    "tags": []
   },
   "outputs": [],
   "source": [
    "import pandas as pd\n",
    "\n",
    "search = catalog.search(\n",
    "    collections=[\"sentinel-2-l2a\"],\n",
    "    bbox=[-124.2751, 45.5469, -123.9613, 45.7458],\n",
    "    datetime=\"2020-01-01/2020-12-31\",\n",
    ")\n",
    "items = search.item_collection()\n",
    "df = geopandas.GeoDataFrame.from_features(items.to_dict())\n",
    "df[\"datetime\"] = pd.to_datetime(df[\"datetime\"])\n",
    "\n",
    "ts = df.set_index(\"datetime\").sort_index()[\"eo:cloud_cover\"].rolling(7).mean()\n",
    "ts.plot(title=\"eo:cloud-cover (7-scene rolling average)\");"
   ]
  },
  {
   "cell_type": "markdown",
   "id": "13669344-a6c2-4684-ba78-69b7907e37e1",
   "metadata": {},
   "source": [
    "### Working with STAC Catalogs and Collections\n",
    "\n",
    "Our `catalog` is a [STAC Catalog](https://github.com/radiantearth/stac-spec/blob/master/catalog-spec/catalog-spec.md) that we can crawl or search. The Catalog contains [STAC Collections](https://github.com/radiantearth/stac-spec/blob/master/collection-spec/collection-spec.md) for each dataset we have indexed (which is not the yet the entirety of data hosted by the Planetary Computer).\n",
    "\n",
    "Collections have information about the [STAC Items](https://github.com/radiantearth/stac-spec/blob/master/item-spec/item-spec.md) they contain. For instance, here we look at the [Bands](https://github.com/stac-extensions/eo#band-object) available for [Landsat 8 Collection 2 Level 2](https://planetarycomputer.microsoft.com/dataset/landsat-c2-l2) data:"
   ]
  },
  {
   "cell_type": "code",
   "execution_count": null,
   "id": "8da11d26-3658-4b9e-b790-f84a2aded3e8",
   "metadata": {
    "tags": []
   },
   "outputs": [],
   "source": [
    "import pandas as pd\n",
    "\n",
    "landsat = catalog.get_collection(\"landsat-c2-l2\")\n",
    "\n",
    "pd.DataFrame(landsat.summaries.get_list(\"eo:bands\"))"
   ]
  },
  {
   "cell_type": "markdown",
   "id": "4ae651c0",
   "metadata": {},
   "source": [
    "We can see what [Assets](https://github.com/radiantearth/stac-spec/blob/master/item-spec/item-spec.md#asset-object) are available on our item with:"
   ]
  },
  {
   "cell_type": "code",
   "execution_count": null,
   "id": "4bb2b985-f18d-4161-9331-b4b259814f34",
   "metadata": {
    "tags": []
   },
   "outputs": [],
   "source": [
    "pd.DataFrame.from_dict(landsat.extra_fields[\"item_assets\"], orient=\"index\")[\n",
    "    [\"title\", \"description\", \"gsd\"]\n",
    "]"
   ]
  },
  {
   "cell_type": "markdown",
   "id": "d951c06c-8d3a-47e7-8067-47fe4e9d4ccf",
   "metadata": {},
   "source": [
    "Some collections, like [Daymet](https://planetarycomputer.microsoft.com/dataset/daymet-daily-na) include collection-level assets. You can use the `.assets` property to access those assets."
   ]
  },
  {
   "cell_type": "code",
   "execution_count": null,
   "id": "c2ffb4ee-2714-4bf0-8445-5d90fcc2520c",
   "metadata": {
    "tags": []
   },
   "outputs": [],
   "source": [
    "collection = catalog.get_collection(\"daymet-daily-na\")\n",
    "print(collection)"
   ]
  },
  {
   "cell_type": "markdown",
   "id": "520e7e3f-b189-4ce3-b5f1-11211e474d1b",
   "metadata": {},
   "source": [
    "Just like assets on items, these assets include links to data in Azure Blob Storage."
   ]
  },
  {
   "cell_type": "code",
   "execution_count": null,
   "id": "08b95491-3994-4cc5-8b24-ba113874835f",
   "metadata": {
    "tags": []
   },
   "outputs": [],
   "source": [
    "asset = collection.assets[\"zarr-abfs\"]\n",
    "print(asset)"
   ]
  },
  {
   "cell_type": "code",
   "execution_count": null,
   "id": "58b7f436-d739-40d8-93bc-631a2295709a",
   "metadata": {
    "tags": []
   },
   "outputs": [],
   "source": [
    "import xarray as xr\n",
    "\n",
    "ds = xr.open_zarr(\n",
    "    asset.href,\n",
    "    **asset.extra_fields[\"xarray:open_kwargs\"],\n",
    "    storage_options=asset.extra_fields[\"xarray:storage_options\"],\n",
    ")\n",
    "ds"
   ]
  },
  {
   "cell_type": "markdown",
   "id": "59c4ec09-548c-42d2-805e-16b1d7875448",
   "metadata": {},
   "source": [
    "### Manually signing assets\n",
    "\n",
    "Earlier on, when we created our `pystac_client.Client`, we specified `modifier=planetary_computer.sign_inplace`. That `modifier` will automatically \"sign\" the STAC metadata, so that the assets can be accessed.\n",
    "\n",
    "Alternatively, you can manually sign the items."
   ]
  },
  {
   "cell_type": "code",
   "execution_count": null,
   "id": "825926df-eb00-420b-9cad-fe238a77c163",
   "metadata": {
    "tags": []
   },
   "outputs": [],
   "source": [
    "import pystac\n",
    "\n",
    "item = pystac.read_file(selected_item.get_self_href())\n",
    "signed_item = planetary_computer.sign(item)  # these assets can be accessed\n",
    "requests.head(signed_item.assets[\"blue\"].href).status_code"
   ]
  },
  {
   "cell_type": "markdown",
   "id": "9eb85e6d-daf5-46ad-a95c-0b542a1e6aa7",
   "metadata": {},
   "source": [
    "Internally, that `planetary_computer.sign` method is making a request to the Planetary Computer's [SAS API](http://planetarycomputer.microsoft.com/api/sas/v1/docs) to get a signed HREF for each asset. You could do that manually yourself."
   ]
  },
  {
   "cell_type": "code",
   "execution_count": null,
   "id": "d0759d76-453a-48a0-adac-a72d66e63dd2",
   "metadata": {
    "tags": []
   },
   "outputs": [],
   "source": [
    "collection = item.get_collection()\n",
    "storage_account = collection.extra_fields[\"msft:storage_account\"]\n",
    "container = collection.extra_fields[\"msft:container\"]\n",
    "\n",
    "response = requests.get(\n",
    "    f\"https://planetarycomputer.microsoft.com/api/sas/v1/token/{collection.id}\"\n",
    ")\n",
    "\n",
    "signed_url = item.assets[\"blue\"].href + \"?\" + response.json()[\"token\"]\n",
    "\n",
    "requests.head(signed_url).status_code"
   ]
  },
  {
   "cell_type": "markdown",
   "id": "6ea8409b-7438-4483-818f-149cafaf10df",
   "metadata": {},
   "source": [
    "See https://planetarycomputer.microsoft.com/docs/concepts/sas/ for more on how to manually sign assets."
   ]
  }
 ],
 "metadata": {
  "kernelspec": {
   "display_name": "Python 3 (ipykernel)",
   "language": "python",
   "name": "python3"
  },
  "language_info": {
   "codemirror_mode": {
    "name": "ipython",
    "version": 3
   },
   "file_extension": ".py",
   "mimetype": "text/x-python",
   "name": "python",
   "nbconvert_exporter": "python",
   "pygments_lexer": "ipython3",
   "version": "3.12.9"
  },
  "widgets": {
   "application/vnd.jupyter.widget-state+json": {
    "state": {
     "440fd8565ac14167ad8f04fe503e393f": {
      "model_module": "@jupyter-widgets/base",
      "model_module_version": "2.0.0",
      "model_name": "LayoutModel",
      "state": {}
     },
     "cf3a2c0607c0407aa9b9126e344dc37a": {
      "model_module": "@jupyter-widgets/controls",
      "model_module_version": "2.0.0",
      "model_name": "VBoxModel",
      "state": {
       "layout": "IPY_MODEL_440fd8565ac14167ad8f04fe503e393f"
      }
     }
    },
    "version_major": 2,
    "version_minor": 0
   }
  }
 },
 "nbformat": 4,
 "nbformat_minor": 5
}
